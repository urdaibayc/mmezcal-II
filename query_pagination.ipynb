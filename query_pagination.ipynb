{
 "cells": [
  {
   "cell_type": "code",
   "execution_count": 1,
   "metadata": {},
   "outputs": [],
   "source": [
    "from serpapi import GoogleSearch, GoogleScholarSearch"
   ]
  },
  {
   "cell_type": "code",
   "execution_count": 2,
   "metadata": {},
   "outputs": [],
   "source": [
    "import json"
   ]
  },
  {
   "cell_type": "code",
   "execution_count": null,
   "metadata": {},
   "outputs": [],
   "source": []
  },
  {
   "cell_type": "code",
   "execution_count": 3,
   "metadata": {},
   "outputs": [],
   "source": [
    "def get_key():\n",
    "    with open('key.txt') as f:\n",
    "        return f.read()\n",
    "    "
   ]
  },
  {
   "cell_type": "code",
   "execution_count": null,
   "metadata": {},
   "outputs": [],
   "source": []
  },
  {
   "cell_type": "code",
   "execution_count": 12,
   "metadata": {},
   "outputs": [],
   "source": [
    "# to get 2 pages\n",
    "#start = 0\n",
    "#end = 40\n",
    "#page_size = 10\n",
    "\n",
    "params = {\n",
    "  \"api_key\": get_key(),\n",
    "  \"engine\": \"google_scholar\",\n",
    "  \"start\": \"0\",\n",
    "  \"as_ylo\": \"1990\",\n",
    "  \"q\": \"mezcal\",\n",
    "  \"as_sdt\": \"0\",\n",
    "  \"scisbd\": \"1\"\n",
    "#  \"start\": start,\n",
    "#  \"end\": end,\n",
    "#  \"num\": page_size\n",
    "}"
   ]
  },
  {
   "cell_type": "code",
   "execution_count": 13,
   "metadata": {},
   "outputs": [],
   "source": [
    "# initialize SerpApi search\n",
    "search = GoogleSearch(params)\n"
   ]
  },
  {
   "cell_type": "code",
   "execution_count": 14,
   "metadata": {},
   "outputs": [
    {
     "name": "stdout",
     "output_type": "stream",
     "text": [
      "https://serpapi.com/search\n"
     ]
    }
   ],
   "source": [
    "json_results = search.get_json()"
   ]
  },
  {
   "cell_type": "code",
   "execution_count": 15,
   "metadata": {},
   "outputs": [
    {
     "data": {
      "text/plain": [
       "'6228e0f6c640d2ef1a191459'"
      ]
     },
     "execution_count": 15,
     "metadata": {},
     "output_type": "execute_result"
    }
   ],
   "source": [
    "json_results['search_metadata']['id']"
   ]
  },
  {
   "cell_type": "code",
   "execution_count": 16,
   "metadata": {},
   "outputs": [
    {
     "data": {
      "text/plain": [
       "{'search_metadata': {'id': '6228e0f6c640d2ef1a191459',\n",
       "  'status': 'Success',\n",
       "  'json_endpoint': 'https://serpapi.com/searches/5cd13e15a0204f40/6228e0f6c640d2ef1a191459.json',\n",
       "  'created_at': '2022-03-09 17:16:38 UTC',\n",
       "  'processed_at': '2022-03-09 17:16:38 UTC',\n",
       "  'google_scholar_url': 'https://scholar.google.com/scholar?q=mezcal&hl=en&start=0&as_ylo=1990&scisbd=1&as_sdt=0',\n",
       "  'raw_html_file': 'https://serpapi.com/searches/5cd13e15a0204f40/6228e0f6c640d2ef1a191459.html',\n",
       "  'total_time_taken': 0.91},\n",
       " 'search_parameters': {'engine': 'google_scholar',\n",
       "  'q': 'mezcal',\n",
       "  'hl': 'en',\n",
       "  'start': 0,\n",
       "  'as_ylo': '1990',\n",
       "  'scisbd': '1',\n",
       "  'as_sdt': '0'},\n",
       " 'search_information': {'organic_results_state': 'Results for exact spelling',\n",
       "  'total_results': 84,\n",
       "  'time_taken_displayed': 0.03,\n",
       "  'query_displayed': 'mezcal'},\n",
       " 'organic_results': [{'position': 0,\n",
       "   'title': 'Taxonomic, physical and morphological characterization of four species of agave with potential for the production of cellulose fibers from the leaves',\n",
       "   'result_id': 'BriFS285u3YJ',\n",
       "   'link': 'https://southfloridapublishing.com/ojs/index.php/jdev/article/view/1176',\n",
       "   'snippet': '16 days ago - The aim of the study was to characterize taxonomic, physical, and morphologically distinct species agaváceas tequila, mezcal and pulque grown in different regions of …',\n",
       "   'publication_info': {'summary': 'FP García, JP Méndez, EJ Muñóz… - … Florida Journal of …, 2022 - southfloridapublishing.com',\n",
       "    'authors': [{'name': 'FP García',\n",
       "      'link': 'https://scholar.google.com/citations?user=8QsN7rcAAAAJ&hl=en&oi=sra',\n",
       "      'serpapi_scholar_link': 'https://serpapi.com/search.json?author_id=8QsN7rcAAAAJ&engine=google_scholar_author&hl=en',\n",
       "      'author_id': '8QsN7rcAAAAJ'},\n",
       "     {'name': 'JP Méndez',\n",
       "      'link': 'https://scholar.google.com/citations?user=Ig0KQ9IAAAAJ&hl=en&oi=sra',\n",
       "      'serpapi_scholar_link': 'https://serpapi.com/search.json?author_id=Ig0KQ9IAAAAJ&engine=google_scholar_author&hl=en',\n",
       "      'author_id': 'Ig0KQ9IAAAAJ'},\n",
       "     {'name': 'EJ Muñóz',\n",
       "      'link': 'https://scholar.google.com/citations?user=8CDE0QIAAAAJ&hl=en&oi=sra',\n",
       "      'serpapi_scholar_link': 'https://serpapi.com/search.json?author_id=8CDE0QIAAAAJ&engine=google_scholar_author&hl=en',\n",
       "      'author_id': '8CDE0QIAAAAJ'}]},\n",
       "   'resources': [{'title': 'southfloridapublishing.com',\n",
       "     'file_format': 'PDF',\n",
       "     'link': 'https://southfloridapublishing.com/ojs/index.php/jdev/article/download/1176/977'}],\n",
       "   'inline_links': {'serpapi_cite_link': 'https://serpapi.com/search.json?engine=google_scholar_cite&q=BriFS285u3YJ',\n",
       "    'versions': {'total': 2,\n",
       "     'link': 'https://scholar.google.com/scholar?cluster=8555495067291596806&hl=en&scisbd=1&as_sdt=0,34',\n",
       "     'cluster_id': '8555495067291596806',\n",
       "     'serpapi_scholar_link': 'https://serpapi.com/search.json?as_sdt=0%2C34&cluster=8555495067291596806&engine=google_scholar&hl=en&scisbd=1'},\n",
       "    'cached_page_link': 'https://scholar.googleusercontent.com/scholar?q=cache:BriFS285u3YJ:scholar.google.com/+mezcal&hl=en&scisbd=1&as_sdt=0,34'}},\n",
       "  {'position': 1,\n",
       "   'title': 'La inocuidad y denominación de origen del mezcal mexicano en su proceso de internacionalización en el marco de sustentabilidad',\n",
       "   'result_id': 'pI9bDyT9_vsJ',\n",
       "   'link': 'https://periodicos.undb.edu.br/index.php/ceds/article/view/22',\n",
       "   'snippet': '28 days ago - El documento destaca la importancia de los procesos de certificación para la competitividad de aquellos productos vinculados con el mercado internacional. Es el caso …',\n",
       "   'publication_info': {'summary': 'MIF Salazar, YS Torres - Revista do CEDS, 2022 - periodicos.undb.edu.br'},\n",
       "   'resources': [{'title': 'undb.edu.br',\n",
       "     'file_format': 'PDF',\n",
       "     'link': 'https://periodicos.undb.edu.br/index.php/ceds/article/download/22/13'}],\n",
       "   'inline_links': {'serpapi_cite_link': 'https://serpapi.com/search.json?engine=google_scholar_cite&q=pI9bDyT9_vsJ',\n",
       "    'cached_page_link': 'https://scholar.googleusercontent.com/scholar?q=cache:pI9bDyT9_vsJ:scholar.google.com/+mezcal&hl=en&scisbd=1&as_sdt=0,34'}},\n",
       "  {'position': 2,\n",
       "   'title': 'Lo que la pandemia se llevó (y lo que nos trajo)',\n",
       "   'result_id': 'sHqNQ0XA2bEJ',\n",
       "   'type': 'Pdf',\n",
       "   'link': 'http://blue.northcentralus.cloudapp.azure.com/dppse/images/Crisis_capitalismo_pandemia_ZARAGOZA_FCPYS_e.pdf#page=89',\n",
       "   'snippet': '36 days ago - … Ser mexicano, comer chiles como el habanero, beber cerveza (o introduzca el destilado o fermentado de su preferencia: bacanora, mezcal, tequila, pulque) mantendría al …',\n",
       "   'publication_info': {'summary': 'FL Veneroni - … a los problemas del siglo xxi - blue.northcentralus.cloudapp.azure …'},\n",
       "   'resources': [{'title': 'azure.com',\n",
       "     'file_format': 'PDF',\n",
       "     'link': 'http://blue.northcentralus.cloudapp.azure.com/dppse/images/Crisis_capitalismo_pandemia_ZARAGOZA_FCPYS_e.pdf#page=89'}],\n",
       "   'inline_links': {'serpapi_cite_link': 'https://serpapi.com/search.json?engine=google_scholar_cite&q=sHqNQ0XA2bEJ',\n",
       "    'cached_page_link': 'http://scholar.googleusercontent.com/scholar?q=cache:sHqNQ0XA2bEJ:scholar.google.com/+mezcal&hl=en&scisbd=1&as_sdt=0,34'}},\n",
       "  {'position': 3,\n",
       "   'title': 'Análisis de la competitividad exportadora de los productores de mezcal de Oaxaca y Michoacán (México) al mercado de los Estados Unidos',\n",
       "   'result_id': '1oycV3Tc2FsJ',\n",
       "   'type': 'Pdf',\n",
       "   'link': 'https://scholar.archive.org/work/5zawvkhzerextierb3uav7p2ni/access/wayback/https://revistaespacios.com/a21v42n21/a21v42n21p02.pdf',\n",
       "   'snippet': '40 days ago - El objetivo de esta investigación fue conocer las variables que incidieron en la competitividad exportadora de las MIPYMES productoras de mezcal de los estados de …',\n",
       "   'publication_info': {'summary': 'SG Esteban, AVJ Víctor - scholar.archive.org'},\n",
       "   'resources': [{'title': 'archive.org',\n",
       "     'file_format': 'PDF',\n",
       "     'link': 'https://scholar.archive.org/work/5zawvkhzerextierb3uav7p2ni/access/wayback/https://revistaespacios.com/a21v42n21/a21v42n21p02.pdf'}],\n",
       "   'inline_links': {'serpapi_cite_link': 'https://serpapi.com/search.json?engine=google_scholar_cite&q=1oycV3Tc2FsJ',\n",
       "    'related_pages_link': 'https://scholar.google.com/scholar?q=related:1oycV3Tc2FsJ:scholar.google.com/&scioq=mezcal&hl=en&scisbd=1&as_sdt=0,34',\n",
       "    'cached_page_link': 'https://scholar.googleusercontent.com/scholar?q=cache:1oycV3Tc2FsJ:scholar.google.com/+mezcal&hl=en&scisbd=1&as_sdt=0,34'}},\n",
       "  {'position': 4,\n",
       "   'title': 'Identification of genes related to hydrolysis and assimilation of Agave fructans in Candida apicola NRRL Y-50540 and Torulaspora delbrueckii NRRL Y-50541 by de …',\n",
       "   'result_id': 'XMP1c7i3j7oJ',\n",
       "   'link': 'https://academic.oup.com/femsyr/article-abstract/22/1/foac005/6515945',\n",
       "   'snippet': '41 days ago - Fructans are the main sugar in agave pine used by yeasts during mezcal fermentation processes, from which Candida apicola NRRL Y-50540 and Torulaspora …',\n",
       "   'publication_info': {'summary': 'LA Muñoz-Miranda, A Pereira-Santana… - FEMS Yeast …, 2022 - academic.oup.com',\n",
       "    'authors': [{'name': 'A Pereira-Santana',\n",
       "      'link': 'https://scholar.google.com/citations?user=Xxj_R_QAAAAJ&hl=en&oi=sra',\n",
       "      'serpapi_scholar_link': 'https://serpapi.com/search.json?author_id=Xxj_R_QAAAAJ&engine=google_scholar_author&hl=en',\n",
       "      'author_id': 'Xxj_R_QAAAAJ'}]},\n",
       "   'inline_links': {'serpapi_cite_link': 'https://serpapi.com/search.json?engine=google_scholar_cite&q=XMP1c7i3j7oJ',\n",
       "    'versions': {'total': 2,\n",
       "     'link': 'https://scholar.google.com/scholar?cluster=13443165415571571548&hl=en&scisbd=1&as_sdt=0,34',\n",
       "     'cluster_id': '13443165415571571548',\n",
       "     'serpapi_scholar_link': 'https://serpapi.com/search.json?as_sdt=0%2C34&cluster=13443165415571571548&engine=google_scholar&hl=en&scisbd=1'}}},\n",
       "  {'position': 5,\n",
       "   'title': 'OPEN THE BOTTLE',\n",
       "   'result_id': 'CJ9_6qp4tr0J',\n",
       "   'link': 'https://www.degruyter.com/document/doi/10.7560/320242-001/html',\n",
       "   'snippet': '49 days ago - I can remember the world before television. I am writing this sentence on a computer. I was born in an eighty-yearold Illinois stone house seventeen days before the atomic …',\n",
       "   'publication_info': {'summary': 'C Bowden - Mezcal, 2022 - degruyter.com'},\n",
       "   'inline_links': {'serpapi_cite_link': 'https://serpapi.com/search.json?engine=google_scholar_cite&q=CJ9_6qp4tr0J'}},\n",
       "  {'position': 6,\n",
       "   'title': 'SOME DEBTS',\n",
       "   'result_id': '-H5SpOlM8Y4J',\n",
       "   'link': 'https://www.degruyter.com/document/doi/10.7560/320242-003/html',\n",
       "   'snippet': '49 days ago - I read a lot. When I was a boy, I would find my father sitting in the kitchen late at night, smoke curling up from a hand-rolled cigarette, his mind working through a pile of …',\n",
       "   'publication_info': {'summary': 'C Bowden - Mezcal, 2022 - degruyter.com'},\n",
       "   'inline_links': {'serpapi_cite_link': 'https://serpapi.com/search.json?engine=google_scholar_cite&q=-H5SpOlM8Y4J'}},\n",
       "  {'position': 7,\n",
       "   'title': 'LONGITUDINAL SUSTAINABILITY ASSESSMENT IN MAGUEY-MEZCAL ARTESANAL PRODUCTION SYSTEMS, IN THE MUNICIPALITY OF VILLA SOLA DE VEGA …',\n",
       "   'result_id': 'xBaHd3Fe378J',\n",
       "   'link': 'https://www.revista.ccba.uady.mx/ojs/index.php/TSA/article/view/4105',\n",
       "   'snippet': '51 days ago - … mezcal subsystem is at a point where it can improve its degree of sustainability based on future mezcal … función de los precios futuros de venta del mezcal. Palabras clave: …',\n",
       "   'publication_info': {'summary': 'AC Rios-Colín, J Ruiz-Vega… - Tropical and …, 2022 - revista.ccba.uady.mx',\n",
       "    'authors': [{'name': 'J Ruiz-Vega',\n",
       "      'link': 'https://scholar.google.com/citations?user=FBlQ15sAAAAJ&hl=en&oi=sra',\n",
       "      'serpapi_scholar_link': 'https://serpapi.com/search.json?author_id=FBlQ15sAAAAJ&engine=google_scholar_author&hl=en',\n",
       "      'author_id': 'FBlQ15sAAAAJ'}]},\n",
       "   'resources': [{'title': 'uady.mx',\n",
       "     'file_format': 'PDF',\n",
       "     'link': 'https://www.revista.ccba.uady.mx/ojs/index.php/TSA/article/download/4105/1776'}],\n",
       "   'inline_links': {'serpapi_cite_link': 'https://serpapi.com/search.json?engine=google_scholar_cite&q=xBaHd3Fe378J',\n",
       "    'related_pages_link': 'https://scholar.google.com/scholar?q=related:xBaHd3Fe378J:scholar.google.com/&scioq=mezcal&hl=en&scisbd=1&as_sdt=0,34',\n",
       "    'cached_page_link': 'https://scholar.googleusercontent.com/scholar?q=cache:xBaHd3Fe378J:scholar.google.com/+mezcal&hl=en&scisbd=1&as_sdt=0,34'}},\n",
       "  {'position': 8,\n",
       "   'title': 'Percepción de valor como herramienta para prospectar una gestión sustentable para la industria tradicional del Mezcal',\n",
       "   'result_id': 'rgRlStmligsJ',\n",
       "   'link': 'http://ri-ng.uaq.mx/handle/123456789/3284',\n",
       "   'snippet': '51 days ago - Descripción:\" El presente trabajo de investigación tiene como objetivo describir y analizar desde un acercamiento Construccionista-Fenomenológico al Sistema socio-…',\n",
       "   'publication_info': {'summary': 'AN Pellón - 2022 - ri-ng.uaq.mx'},\n",
       "   'inline_links': {'serpapi_cite_link': 'https://serpapi.com/search.json?engine=google_scholar_cite&q=rgRlStmligsJ',\n",
       "    'cached_page_link': 'http://scholar.googleusercontent.com/scholar?q=cache:rgRlStmligsJ:scholar.google.com/+mezcal&hl=en&scisbd=1&as_sdt=0,34'}},\n",
       "  {'position': 9,\n",
       "   'title': 'Commons, global markets and small-scale family enterprises: the case of mezcal production in Oaxaca, Mexico',\n",
       "   'result_id': 'GrtKRCNXaEEJ',\n",
       "   'link': 'https://link.springer.com/article/10.1007/s10460-021-10293-z',\n",
       "   'snippet': '57 days ago - … mezcal production—an alcoholic beverage made from agave—in an Indigenous community in Oaxaca, Mexico. Most mezcal … water) necessary for making mezcal are held …',\n",
       "   'publication_info': {'summary': 'MG Lira, JP Robson, DJ Klooster - Agriculture and Human Values, 2022 - Springer',\n",
       "    'authors': [{'name': 'JP Robson',\n",
       "      'link': 'https://scholar.google.com/citations?user=zVk3YZAAAAAJ&hl=en&oi=sra',\n",
       "      'serpapi_scholar_link': 'https://serpapi.com/search.json?author_id=zVk3YZAAAAAJ&engine=google_scholar_author&hl=en',\n",
       "      'author_id': 'zVk3YZAAAAAJ'}]},\n",
       "   'resources': [{'title': 'researchgate.net',\n",
       "     'file_format': 'PDF',\n",
       "     'link': 'https://www.researchgate.net/profile/James-Robson-3/publication/357718454_Commons_global_markets_and_small-scale_family_enterprises_the_case_of_mezcal_production_in_Oaxaca_Mexico/links/61dc994f323a2268f9978943/Commons-global-markets-and-small-scale-family-enterprises-the-case-of-mezcal-production-in-Oaxaca-Mexico.pdf'}],\n",
       "   'inline_links': {'serpapi_cite_link': 'https://serpapi.com/search.json?engine=google_scholar_cite&q=GrtKRCNXaEEJ',\n",
       "    'related_pages_link': 'https://scholar.google.com/scholar?q=related:GrtKRCNXaEEJ:scholar.google.com/&scioq=mezcal&hl=en&scisbd=1&as_sdt=0,34',\n",
       "    'versions': {'total': 3,\n",
       "     'link': 'https://scholar.google.com/scholar?cluster=4713112819024444186&hl=en&scisbd=1&as_sdt=0,34',\n",
       "     'cluster_id': '4713112819024444186',\n",
       "     'serpapi_scholar_link': 'https://serpapi.com/search.json?as_sdt=0%2C34&cluster=4713112819024444186&engine=google_scholar&hl=en&scisbd=1'}}}],\n",
       " 'related_searches': [{'query': 'mezcal production',\n",
       "   'link': 'https://scholar.google.com/scholar?hl=en&as_sdt=0,34&qsp=1&q=mezcal+production&qst=br'}],\n",
       " 'pagination': {'current': 1,\n",
       "  'next': 'https://scholar.google.com/scholar?start=10&q=mezcal&hl=en&scisbd=1&as_sdt=0,34',\n",
       "  'other_pages': {'2': 'https://scholar.google.com/scholar?start=10&q=mezcal&hl=en&scisbd=1&as_sdt=0,34',\n",
       "   '3': 'https://scholar.google.com/scholar?start=20&q=mezcal&hl=en&scisbd=1&as_sdt=0,34',\n",
       "   '4': 'https://scholar.google.com/scholar?start=30&q=mezcal&hl=en&scisbd=1&as_sdt=0,34',\n",
       "   '5': 'https://scholar.google.com/scholar?start=40&q=mezcal&hl=en&scisbd=1&as_sdt=0,34',\n",
       "   '6': 'https://scholar.google.com/scholar?start=50&q=mezcal&hl=en&scisbd=1&as_sdt=0,34',\n",
       "   '7': 'https://scholar.google.com/scholar?start=60&q=mezcal&hl=en&scisbd=1&as_sdt=0,34',\n",
       "   '8': 'https://scholar.google.com/scholar?start=70&q=mezcal&hl=en&scisbd=1&as_sdt=0,34',\n",
       "   '9': 'https://scholar.google.com/scholar?start=80&q=mezcal&hl=en&scisbd=1&as_sdt=0,34'}},\n",
       " 'serpapi_pagination': {'current': 1,\n",
       "  'next_link': 'https://serpapi.com/search.json?as_sdt=0%2C34&as_ylo=1990&engine=google_scholar&hl=en&q=mezcal&scisbd=1&start=10',\n",
       "  'next': 'https://serpapi.com/search.json?as_sdt=0%2C34&as_ylo=1990&engine=google_scholar&hl=en&q=mezcal&scisbd=1&start=10',\n",
       "  'other_pages': {'2': 'https://serpapi.com/search.json?as_sdt=0%2C34&as_ylo=1990&engine=google_scholar&hl=en&q=mezcal&scisbd=1&start=10',\n",
       "   '3': 'https://serpapi.com/search.json?as_sdt=0%2C34&as_ylo=1990&engine=google_scholar&hl=en&q=mezcal&scisbd=1&start=20',\n",
       "   '4': 'https://serpapi.com/search.json?as_sdt=0%2C34&as_ylo=1990&engine=google_scholar&hl=en&q=mezcal&scisbd=1&start=30',\n",
       "   '5': 'https://serpapi.com/search.json?as_sdt=0%2C34&as_ylo=1990&engine=google_scholar&hl=en&q=mezcal&scisbd=1&start=40',\n",
       "   '6': 'https://serpapi.com/search.json?as_sdt=0%2C34&as_ylo=1990&engine=google_scholar&hl=en&q=mezcal&scisbd=1&start=50',\n",
       "   '7': 'https://serpapi.com/search.json?as_sdt=0%2C34&as_ylo=1990&engine=google_scholar&hl=en&q=mezcal&scisbd=1&start=60',\n",
       "   '8': 'https://serpapi.com/search.json?as_sdt=0%2C34&as_ylo=1990&engine=google_scholar&hl=en&q=mezcal&scisbd=1&start=70',\n",
       "   '9': 'https://serpapi.com/search.json?as_sdt=0%2C34&as_ylo=1990&engine=google_scholar&hl=en&q=mezcal&scisbd=1&start=80'}}}"
      ]
     },
     "execution_count": 16,
     "metadata": {},
     "output_type": "execute_result"
    }
   ],
   "source": [
    "json_results"
   ]
  },
  {
   "cell_type": "code",
   "execution_count": 19,
   "metadata": {},
   "outputs": [
    {
     "data": {
      "text/plain": [
       "{'position': 1,\n",
       " 'title': 'La inocuidad y denominación de origen del mezcal mexicano en su proceso de internacionalización en el marco de sustentabilidad',\n",
       " 'result_id': 'pI9bDyT9_vsJ',\n",
       " 'link': 'https://periodicos.undb.edu.br/index.php/ceds/article/view/22',\n",
       " 'snippet': '28 days ago - El documento destaca la importancia de los procesos de certificación para la competitividad de aquellos productos vinculados con el mercado internacional. Es el caso …',\n",
       " 'publication_info': {'summary': 'MIF Salazar, YS Torres - Revista do CEDS, 2022 - periodicos.undb.edu.br'},\n",
       " 'resources': [{'title': 'undb.edu.br',\n",
       "   'file_format': 'PDF',\n",
       "   'link': 'https://periodicos.undb.edu.br/index.php/ceds/article/download/22/13'}],\n",
       " 'inline_links': {'serpapi_cite_link': 'https://serpapi.com/search.json?engine=google_scholar_cite&q=pI9bDyT9_vsJ',\n",
       "  'cached_page_link': 'https://scholar.googleusercontent.com/scholar?q=cache:pI9bDyT9_vsJ:scholar.google.com/+mezcal&hl=en&scisbd=1&as_sdt=0,34'}}"
      ]
     },
     "execution_count": 19,
     "metadata": {},
     "output_type": "execute_result"
    }
   ],
   "source": [
    "json_results['organic_results'][1]"
   ]
  },
  {
   "cell_type": "code",
   "execution_count": null,
   "metadata": {},
   "outputs": [],
   "source": [
    "for articulo in json_results['organic_results']:"
   ]
  },
  {
   "cell_type": "code",
   "execution_count": null,
   "metadata": {},
   "outputs": [],
   "source": []
  },
  {
   "cell_type": "code",
   "execution_count": null,
   "metadata": {},
   "outputs": [],
   "source": []
  },
  {
   "cell_type": "code",
   "execution_count": null,
   "metadata": {},
   "outputs": [],
   "source": []
  },
  {
   "cell_type": "code",
   "execution_count": null,
   "metadata": {},
   "outputs": [],
   "source": [
    "name = json_results['search_metadata']['id']+'.json'"
   ]
  },
  {
   "cell_type": "code",
   "execution_count": null,
   "metadata": {},
   "outputs": [],
   "source": [
    "name"
   ]
  },
  {
   "cell_type": "code",
   "execution_count": null,
   "metadata": {},
   "outputs": [],
   "source": [
    "with open(name, 'w', encoding='utf-8') as f:\n",
    "    json.dump(json_results, f, ensure_ascii=False, indent=4)\n"
   ]
  },
  {
   "cell_type": "code",
   "execution_count": null,
   "metadata": {},
   "outputs": [],
   "source": [
    "total_results = json_results['search_information']['total_results']"
   ]
  },
  {
   "cell_type": "code",
   "execution_count": null,
   "metadata": {},
   "outputs": [],
   "source": [
    "total_results"
   ]
  },
  {
   "cell_type": "code",
   "execution_count": null,
   "metadata": {},
   "outputs": [],
   "source": [
    "json_results['search_information']"
   ]
  },
  {
   "cell_type": "code",
   "execution_count": null,
   "metadata": {},
   "outputs": [],
   "source": [
    "valor = 879"
   ]
  },
  {
   "cell_type": "code",
   "execution_count": null,
   "metadata": {},
   "outputs": [],
   "source": [
    "valor/10"
   ]
  },
  {
   "cell_type": "code",
   "execution_count": null,
   "metadata": {},
   "outputs": [],
   "source": [
    "\n",
    "# as proof of concept \n",
    "# urls collects\n",
    "urls = []\n"
   ]
  },
  {
   "cell_type": "code",
   "execution_count": null,
   "metadata": {},
   "outputs": [],
   "source": [
    "# or set custom parameter\n",
    "pages = search.pagination(start, end, page_size)\n",
    "\n",
    "# fetch one search result per iteration \n",
    "# using a basic python for loop \n",
    "# which invokes python iterator under the hood.\n",
    "for page in pages:\n",
    "  print(f\"Current page: {page['serpapi_pagination']['current']}\")\n",
    "  for article_result in page[\"news_results\"]:\n",
    "    print(f\"Title: {news_result['title']}\\nLink: {news_result['link']}\\n\")\n",
    "    urls.append(news_result['link'])\n",
    "  \n",
    "# check if the total number pages is as expected\n",
    "# note: the exact number if variable depending on the search engine backend\n",
    "if len(urls) == (end - start):\n",
    "  print(\"all search results count match!\")\n",
    "if len(urls) == len(set(urls)):\n",
    "  print(\"all search results are unique!\")"
   ]
  },
  {
   "cell_type": "code",
   "execution_count": null,
   "metadata": {},
   "outputs": [],
   "source": [
    "pages.num()"
   ]
  },
  {
   "cell_type": "code",
   "execution_count": null,
   "metadata": {},
   "outputs": [],
   "source": []
  },
  {
   "cell_type": "code",
   "execution_count": null,
   "metadata": {},
   "outputs": [],
   "source": []
  },
  {
   "cell_type": "code",
   "execution_count": null,
   "metadata": {},
   "outputs": [],
   "source": []
  },
  {
   "cell_type": "code",
   "execution_count": null,
   "metadata": {},
   "outputs": [],
   "source": []
  },
  {
   "cell_type": "code",
   "execution_count": null,
   "metadata": {},
   "outputs": [],
   "source": []
  },
  {
   "cell_type": "code",
   "execution_count": null,
   "metadata": {},
   "outputs": [],
   "source": [
    "json_results.keys()"
   ]
  },
  {
   "cell_type": "code",
   "execution_count": null,
   "metadata": {},
   "outputs": [],
   "source": [
    "json_results['pagination']"
   ]
  },
  {
   "cell_type": "code",
   "execution_count": null,
   "metadata": {},
   "outputs": [],
   "source": [
    "search.pagination('next')"
   ]
  },
  {
   "cell_type": "code",
   "execution_count": null,
   "metadata": {},
   "outputs": [],
   "source": []
  },
  {
   "cell_type": "code",
   "execution_count": null,
   "metadata": {},
   "outputs": [],
   "source": []
  },
  {
   "cell_type": "code",
   "execution_count": null,
   "metadata": {},
   "outputs": [],
   "source": []
  },
  {
   "cell_type": "code",
   "execution_count": null,
   "metadata": {},
   "outputs": [],
   "source": [
    "organic_results = json_results['organic_results']"
   ]
  },
  {
   "cell_type": "code",
   "execution_count": null,
   "metadata": {},
   "outputs": [],
   "source": [
    "organic_results"
   ]
  },
  {
   "cell_type": "code",
   "execution_count": null,
   "metadata": {},
   "outputs": [],
   "source": [
    "for result in organic_results:\n",
    "    keys = list(result.keys())\n",
    "    for key in keys:\n",
    "        print(result[key])\n",
    "    print('\\n')"
   ]
  },
  {
   "cell_type": "code",
   "execution_count": null,
   "metadata": {},
   "outputs": [],
   "source": []
  },
  {
   "cell_type": "code",
   "execution_count": null,
   "metadata": {},
   "outputs": [],
   "source": []
  },
  {
   "cell_type": "code",
   "execution_count": null,
   "metadata": {},
   "outputs": [],
   "source": []
  },
  {
   "cell_type": "code",
   "execution_count": 10,
   "metadata": {},
   "outputs": [],
   "source": [
    "# https://github.com/serpapi/google-search-results-python\n",
    "\n",
    "\n",
    "def scrape():\n",
    "  params = {\n",
    "    \"engine\": \"google\",\n",
    "    \"q\": \"gta san andreas\",\n",
    "    \"tbm\": \"nws\",\n",
    "    \"api_key\": get_key(),\n",
    "  }\n",
    "\n",
    "  search = GoogleSearch(params)\n",
    "  pages = search.pagination()\n",
    "\n",
    "  for result in pages:\n",
    "    print(f\"Current page: {result['serpapi_pagination']['current']}\")\n",
    "\n",
    "    for news_result in result[\"news_results\"]:\n",
    "        print(f\"Title: {news_result['title']}\\nLink: {news_result['link']}\\n\")"
   ]
  },
  {
   "cell_type": "code",
   "execution_count": 11,
   "metadata": {
    "scrolled": false
   },
   "outputs": [
    {
     "name": "stdout",
     "output_type": "stream",
     "text": [
      "https://serpapi.com/search\n",
      "Current page: 1\n",
      "Title: Download GTA San Andreas Full Game Legal, Ada Versi 200 MB Gratis di HP Android? Ini Jawabannya - Kabar Joglo Semar\n",
      "Link: https://kabarjoglosemar.pikiran-rakyat.com/teknologi/pr-733935528/download-gta-san-andreas-full-game-legal-ada-versi-200-mb-gratis-di-hp-android-ini-jawabannya\n",
      "\n",
      "Title: Link Download GTA San Andreas Definitive Edition Full Game, Ada Versi Gratis dari Rockstar Games? - Kabar Joglo Semar\n",
      "Link: https://kabarjoglosemar.pikiran-rakyat.com/teknologi/pr-733935436/link-download-gta-san-andreas-definitive-edition-full-game-ada-versi-gratis-dari-rockstar-games\n",
      "\n",
      "Title: LINK Download GTA SA Android Apk Data Gratis di Sini\n",
      "Link: https://www.ayosemarang.com/umum/pr-772885712/link-download-gta-sa-android-apk-data-gratis-di-sini\n",
      "\n",
      "Title: Fitur Yang Dimiliki GTA SA Lite Android MOD Indonesia 2022\n",
      "Link: https://retizen.republika.co.id/posts/70189/fitur-yang-dimiliki-gta-sa-lite-android-mod-indonesia-2022\n",
      "\n",
      "Title: Download GTA SA Android Terbaru Gratis Beserta Cara Instal\n",
      "Link: https://www.ayosemarang.com/umum/pr-772892545/download-gta-sa-android-terbaru-gratis-beserta-cara-instal\n",
      "\n",
      "Title: GTA San Andreas Full Game di Sini, Gratis di HP? Ini Link Download Resmi Untuk Android - Kabar Joglo Semar\n",
      "Link: https://kabarjoglosemar.pikiran-rakyat.com/teknologi/pr-733926645/gta-san-andreas-full-game-di-sini-gratis-di-hp-ini-link-download-resmi-untuk-android\n",
      "\n",
      "Title: GTA San Andreas APK DATA Android, Klik Link Download Resmi Berikut - Kabar Joglo Semar\n",
      "Link: https://kabarjoglosemar.pikiran-rakyat.com/teknologi/pr-733924514/gta-san-andreas-apk-data-android-klik-link-download-resmi-berikut\n",
      "\n",
      "Title: Link Download GTA San Andreas Definitive Edition yang Legal Ada di Sini, Sudah Bisa Main di HP Android? - Kabar Joglo Semar\n",
      "Link: https://kabarjoglosemar.pikiran-rakyat.com/teknologi/pr-733919278/link-download-gta-san-andreas-definitive-edition-yang-legal-ada-di-sini-sudah-bisa-main-di-hp-android\n",
      "\n",
      "Title: Download Legal GTA San Andreas Definitive Edition, Bisa Pakai Link Resmi Ini - Kabar Joglo Semar\n",
      "Link: https://kabarjoglosemar.pikiran-rakyat.com/teknologi/pr-733926411/download-legal-gta-san-andreas-definitive-edition-bisa-pakai-link-resmi-ini\n",
      "\n",
      "Title: Segera Download GTA San Andreas Definitive Edition yang Legal, Ini Link dari Rockstar Games - Kabar Joglo Semar\n",
      "Link: https://kabarjoglosemar.pikiran-rakyat.com/teknologi/pr-733920331/segera-download-gta-san-andreas-definitive-edition-yang-legal-ini-link-dari-rockstar-games\n",
      "\n",
      "https://serpapi.com/search\n",
      "Current page: 3\n",
      "Title: How To Complete All The Exports And Imports In GTA San Andreas\n",
      "Link: https://www.thegamer.com/gta-san-andreas-exports-and-imports-guide/\n",
      "\n",
      "Title: GTA San Andreas' CJ Gets Revenge On Big Smoke In Tekken 7 Mod\n",
      "Link: https://screenrant.com/gta-cj-big-smoke-revenge-tekken-7-mod/\n",
      "\n",
      "Title: GTA Trilogy Adds Back Missing Feature\n",
      "Link: https://comicbook.com/gaming/news/gta-trilogy-san-andreas-vice-city-definitive-edition-update-feature/\n",
      "\n",
      "Title: Orchestra playing GTA theme goes viral on TikTok and it’s so good\n",
      "Link: https://www.dexerto.com/gta/orchestra-playing-gta-theme-goes-viral-on-tiktok-and-its-so-good-1775500/\n",
      "\n",
      "Title: 5 bizarre GTA San Andreas mods as of February 2022\n",
      "Link: https://www.sportskeeda.com/gta/5-bizarre-gta-san-andreas-mods-february-2022\n",
      "\n",
      "Title: 5 best GTA San Andreas mods for PC in February 2022\n",
      "Link: https://www.sportskeeda.com/gta/5-best-gta-san-andreas-mods-pc-february-2022\n",
      "\n",
      "Title: GTA 6 Ambitious Game Length Possibly Revealed; Rumored ...\n",
      "Link: https://epicstream.com/article/gta-6-game-length-possibly-revealed-san-andreas-vice-city-liberty-city-europe\n",
      "\n",
      "Title: 14 Things GTA San Andreas Doesn't Tell You - GTA: San ...\n",
      "Link: https://www.ign.com/wikis/grand-theft-auto-san-andreas/14_Things_GTA_San_Andreas_Doesn't_Tell_You\n",
      "\n",
      "Title: GTA San Andreas Fan Recreates the Grove Street Gang as LEGO Minifig Fanart\n",
      "Link: https://gamerant.com/gta-san-andreas-grove-street-gang-lego-minifig-fan-art/\n",
      "\n",
      "Title: Remastered GTA San Andreas Is Coming To Xbox Game Pass\n",
      "Link: https://kotaku.com/remastered-gta-san-andreas-is-coming-to-xbox-game-pass-1847916194\n",
      "\n",
      "https://serpapi.com/search\n",
      "Current page: 4\n",
      "Title: GTA San Andreas Bukan Mod APK, Pakai Link Download Berikut Ini - Kabar Joglo Semar\n",
      "Link: https://kabarjoglosemar.pikiran-rakyat.com/teknologi/pr-733905901/gta-san-andreas-bukan-mod-apk-pakai-link-download-berikut-ini\n",
      "\n",
      "Title: GTA San Andreas Gratis di Android? Ini Link Download Rockstar Games Untuk HP - Kabar Joglo Semar\n",
      "Link: https://kabarjoglosemar.pikiran-rakyat.com/teknologi/pr-733873761/gta-san-andreas-gratis-di-android-ini-link-download-rockstar-games-untuk-hp\n",
      "\n",
      "Title: Download GTA San Andreas Original Apk di HP Android Bisa Gratis? Ini Link Download Legal - Kabar Joglo Semar\n",
      "Link: https://kabarjoglosemar.pikiran-rakyat.com/teknologi/pr-733884058/download-gta-san-andreas-original-apk-di-hp-android-bisa-gratis-ini-link-download-legal\n",
      "\n",
      "Title: Link Download GTA San Andreas Mod APK di Android? Ini Link yang Legal Untuk HP - Kabar Joglo Semar\n",
      "Link: https://kabarjoglosemar.pikiran-rakyat.com/teknologi/pr-733907744/link-download-gta-san-andreas-mod-apk-di-android-ini-link-yang-legal-untuk-hp\n",
      "\n",
      "Title: Download GTA San Andreas Definitive Edition Legal dan Aman, Bisa Gratis? Cek Link Resmi di Sini - Kabar Joglo Semar\n",
      "Link: https://kabarjoglosemar.pikiran-rakyat.com/teknologi/pr-733906346/download-gta-san-andreas-definitive-edition-legal-dan-aman-bisa-gratis-cek-link-resmi-di-sini\n",
      "\n",
      "Title: Main GTA San Andreas Gratis di Android? Klik Link Download Legal Ini - Kabar Joglo Semar\n",
      "Link: https://kabarjoglosemar.pikiran-rakyat.com/teknologi/pr-733904357/main-gta-san-andreas-gratis-di-android-klik-link-download-legal-ini\n",
      "\n",
      "Title: Gratis GTA San Andreas di HP? Ini Link Download yang Legal Untuk Android - Kabar Joglo Semar\n",
      "Link: https://kabarjoglosemar.pikiran-rakyat.com/teknologi/pr-733886478/gratis-gta-san-andreas-di-hp-ini-link-download-yang-legal-untuk-android\n",
      "\n",
      "Title: GTA San Andreas Mod APK di HP Android? Gunakan Link Download Legal Berikut - Kabar Joglo Semar\n",
      "Link: https://kabarjoglosemar.pikiran-rakyat.com/teknologi/pr-733904526/gta-san-andreas-mod-apk-di-hp-android-gunakan-link-download-legal-berikut\n",
      "\n",
      "Title: Link Resmi Download GTA San Andreas Definitive Edition ...\n",
      "Link: https://kabarjoglosemar.pikiran-rakyat.com/teknologi/pr-733904430/link-resmi-download-gta-san-andreas-definitive-edition-klik-di-sini\n",
      "\n",
      "Title: Download GTA San Andreas Full Game APK di Sini, Link Resmi dari Rockstar Games - Kabar Joglo Semar\n",
      "Link: https://kabarjoglosemar.pikiran-rakyat.com/teknologi/pr-733904297/download-gta-san-andreas-full-game-apk-di-sini-link-resmi-dari-rockstar-games\n",
      "\n",
      "https://serpapi.com/search\n",
      "Current page: 5\n",
      "https://serpapi.com/search\n"
     ]
    },
    {
     "name": "stderr",
     "output_type": "stream",
     "text": [
      "\n",
      "KeyboardInterrupt\n",
      "\n"
     ]
    }
   ],
   "source": [
    "scrape()"
   ]
  },
  {
   "cell_type": "code",
   "execution_count": null,
   "metadata": {},
   "outputs": [],
   "source": [
    "# original code: https://replit.com/@DimitryZub1/Scrape-Google-News-with-Pagination-python-serpapi\n",
    "class TestExamplePaginate(unittest.TestCase):\n",
    "    \n",
    "    @unittest.skipIf((os.getenv(\"API_KEY\") == None), \"no api_key provided\")\n",
    "    def test_paginate(self):\n",
    "      # to get 2 pages\n",
    "      start = 0\n",
    "      end = 20\n",
    "      # basic search parameters\n",
    "      params = {\n",
    "        \"q\": \"coca cola\",\n",
    "        \"tbm\": \"nws\",\n",
    "        \"api_key\": os.getenv(\"API_KEY\")\n",
    "      }\n",
    "      # as proof of concept \n",
    "      #  title collects\n",
    "      title = []\n",
    "      # initialize a search\n",
    "      search = GoogleSearch(params)\n",
    "      # create a python generator\n",
    "      pages = search.pagination(start, end)\n",
    "      # fetch one search result per iteration \n",
    "      #  using a basic python for loop \n",
    "      #   which invokes python iterator under the hood.\n",
    "      page_count = 0\n",
    "      for page in pages:\n",
    "        page_count += 1\n",
    "        #print(f\"Current page: {page['serpapi_pagination']['current']}\")\n",
    "        for news_result in page[\"news_results\"]:\n",
    "            #print(f\"Title: {news_result['title']}\\nLink: {news_result['link']}\\n\")\n",
    "            title.append(news_result['title'])\n",
    "      # double check if things adds up.\n",
    "      # total number pages expected\n",
    "      #  the exact number if variable depending on the search engine backend\n",
    "      self.assertEqual(page_count, 2)\n",
    "      self.assertEqual(len(title), 20, \"number of search results\")\n",
    "      #self.assertEqual(len(set(title)), len(title), \"duplicated elements detected\")\n",
    "\n",
    "    @unittest.skipIf((os.getenv(\"API_KEY\") == None), \"no api_key provided\")\n",
    "    def test_paginate_page_size(self):\n",
    "      # to get 2 pages with each page contains 20 search results\n",
    "      start = 0\n",
    "      end = 80\n",
    "      page_size = 20\n",
    "\n",
    "      # use parameters in\n",
    "      params = {\n",
    "        \"q\": \"coca cola\",\n",
    "        \"tbm\": \"nws\",\n",
    "        \"api_key\": os.getenv(\"API_KEY\"),\n",
    "        \"start\": start,\n",
    "        \"end\": end,\n",
    "        \"num\": page_size\n",
    "      }\n",
    "      title = []\n",
    "      search = GoogleSearch(params)\n",
    "      # parameter start,end,page_size will be used instead of pagination\n",
    "      pages = search.pagination()\n",
    "      page_count = 0\n",
    "      count = 0\n",
    "      for page in pages:\n",
    "        page_count += 1\n",
    "        # print(f\"Current page: {page['serpapi_pagination']['current']}\")\n",
    "        for news_result in page[\"news_results\"]:\n",
    "            count += 1\n",
    "            i = 0\n",
    "            for t in title:\n",
    "              i += 1\n",
    "              if t == news_result['title']:\n",
    "                print((\"%d duplicated title: %s at index: %d\" % (count, t, i)))\n",
    "            #print(f\"{count} - title: {news_result['title']}\")\n",
    "            title.append(news_result['title'])\n",
    "\n",
    "        self.assertEqual(count%2, 0, (\"page %s does not contain 20 elements\" % page_count))\n",
    "      \n",
    "      # check number of pages match\n",
    "      self.assertEqual(page_count, 4)\n",
    "      self.assertEqual(len(title), end, \"number of search results\")\n",
    "      # google randomly duplicated search result\n",
    "      # self.assertEqual(len(set(title)), end, \"duplicated search results\")"
   ]
  }
 ],
 "metadata": {
  "kernelspec": {
   "display_name": "venv",
   "language": "python",
   "name": "venv"
  },
  "language_info": {
   "codemirror_mode": {
    "name": "ipython",
    "version": 3
   },
   "file_extension": ".py",
   "mimetype": "text/x-python",
   "name": "python",
   "nbconvert_exporter": "python",
   "pygments_lexer": "ipython3",
   "version": "3.8.10"
  }
 },
 "nbformat": 4,
 "nbformat_minor": 4
}
