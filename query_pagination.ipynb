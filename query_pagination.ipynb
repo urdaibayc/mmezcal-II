{
 "cells": [
  {
   "cell_type": "code",
   "execution_count": 1,
   "metadata": {},
   "outputs": [],
   "source": [
    "from serpapi import GoogleSearch, GoogleScholarSearch"
   ]
  },
  {
   "cell_type": "code",
   "execution_count": 2,
   "metadata": {},
   "outputs": [],
   "source": [
    "import json"
   ]
  },
  {
   "cell_type": "code",
   "execution_count": 8,
   "metadata": {},
   "outputs": [],
   "source": [
    "def get_key():\n",
    "    with open('key.txt') as f:\n",
    "        return f.read()\n",
    "    "
   ]
  },
  {
   "cell_type": "code",
   "execution_count": null,
   "metadata": {},
   "outputs": [],
   "source": []
  },
  {
   "cell_type": "code",
   "execution_count": null,
   "metadata": {},
   "outputs": [],
   "source": [
    "params = {\n",
    "  \"api_key\": get_key(),\n",
    "  \"engine\": \"google_scholar\",\n",
    "  \"start\": \"0\",\n",
    "  \"as_ylo\": \"1990\",\n",
    "  \"q\": \"mezcal\",\n",
    "  \"as_sdt\": \"0\",\n",
    "  \"scisbd\": \"1\"\n",
    "}"
   ]
  },
  {
   "cell_type": "code",
   "execution_count": null,
   "metadata": {},
   "outputs": [],
   "source": [
    "search = GoogleSearch(params)\n",
    "results = search.get_dict()"
   ]
  },
  {
   "cell_type": "code",
   "execution_count": null,
   "metadata": {},
   "outputs": [],
   "source": [
    "search = GoogleSearch({\"q\": \"Coffee\", \"location\": \"Austin,Texas\", \"api_key\": \"<secret_key>\"})\n",
    "data = search.get_json()\n",
    "assert data[\"error\"] == None"
   ]
  },
  {
   "cell_type": "code",
   "execution_count": null,
   "metadata": {},
   "outputs": [],
   "source": [
    "# to get 2 pages\n",
    "start = 0\n",
    "end = 40\n",
    "page_size = 10\n",
    "\n",
    "\n",
    "parameter = {\n",
    "  \"q\": \"coca cola\",\n",
    "  \"tbm\": \"nws\",\n",
    "  \"api_key\": os.getenv(\"API_KEY\"),\n",
    "  # optional pagination parameter\n",
    "  #  the pagination method can take argument directly\n",
    "  \"start\": start,\n",
    "  \"end\": end,\n",
    "  \"num\": page_size\n",
    "}\n",
    "\n",
    "# as proof of concept \n",
    "# urls collects\n",
    "urls = []\n",
    "\n",
    "# initialize a search\n",
    "search = GoogleSearch(parameter)\n",
    "\n",
    "# create a python generator using parameter\n",
    "pages = search.pagination()\n",
    "# or set custom parameter\n",
    "pages = search.pagination(start, end, page_size)\n",
    "\n",
    "# fetch one search result per iteration \n",
    "# using a basic python for loop \n",
    "# which invokes python iterator under the hood.\n",
    "for page in pages:\n",
    "  print(f\"Current page: {page['serpapi_pagination']['current']}\")\n",
    "  for news_result in page[\"news_results\"]:\n",
    "    print(f\"Title: {news_result['title']}\\nLink: {news_result['link']}\\n\")\n",
    "    urls.append(news_result['link'])\n",
    "  \n",
    "# check if the total number pages is as expected\n",
    "# note: the exact number if variable depending on the search engine backend\n",
    "if len(urls) == (end - start):\n",
    "  print(\"all search results count match!\")\n",
    "if len(urls) == len(set(urls)):\n",
    "  print(\"all search results are unique!\")"
   ]
  },
  {
   "cell_type": "code",
   "execution_count": null,
   "metadata": {},
   "outputs": [],
   "source": [
    "with open('data.json', 'w', encoding='utf-8') as f:\n",
    "    json.dump(data, f, ensure_ascii=False, indent=4)"
   ]
  }
 ],
 "metadata": {
  "kernelspec": {
   "display_name": "venv",
   "language": "python",
   "name": "venv"
  },
  "language_info": {
   "codemirror_mode": {
    "name": "ipython",
    "version": 3
   },
   "file_extension": ".py",
   "mimetype": "text/x-python",
   "name": "python",
   "nbconvert_exporter": "python",
   "pygments_lexer": "ipython3",
   "version": "3.8.10"
  }
 },
 "nbformat": 4,
 "nbformat_minor": 4
}
