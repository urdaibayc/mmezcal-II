{
 "cells": [
  {
   "cell_type": "code",
   "execution_count": null,
   "metadata": {},
   "outputs": [],
   "source": [
    "from serpapi import GoogleSearch, GoogleScholarSearch\n",
    "import json\n",
    "import csv"
   ]
  },
  {
   "cell_type": "code",
   "execution_count": null,
   "metadata": {},
   "outputs": [],
   "source": [
    "def get_key():\n",
    "    with open('key.txt') as f:\n",
    "        return f.read()\n",
    "    "
   ]
  },
  {
   "cell_type": "code",
   "execution_count": null,
   "metadata": {},
   "outputs": [],
   "source": [
    "def create_file(file_name):\n",
    "    fieldnames = ['Title',\n",
    "                  'Link',\n",
    "                  'Snippet',\n",
    "                  'Summary',\n",
    "                  'Info',\n",
    "                  'Processed',\n",
    "                  'Query'] \n",
    "    with open(file_name+'.csv', 'w', newline='') as f:\n",
    "        writer = csv.writer(f)\n",
    "        writer.writerow(fieldnames)"
   ]
  },
  {
   "cell_type": "code",
   "execution_count": null,
   "metadata": {},
   "outputs": [],
   "source": [
    "def add_line(file_name, data_to_save):\n",
    "    with open(file_name, 'a') as f:\n",
    "        writer = csv.writer(f)\n",
    "        writer.writerow(data_to_save)\n"
   ]
  },
  {
   "cell_type": "code",
   "execution_count": null,
   "metadata": {},
   "outputs": [],
   "source": [
    "def scrape(query):\n",
    "\n",
    "    params = {\n",
    "        \"api_key\": get_key(),\n",
    "        \"engine\": \"google_scholar\",\n",
    "        \"as_ylo\": \"1990\",\n",
    "        \"q\": query,\n",
    "        \"as_sdt\": \"0\", # 0 - exclude patents\n",
    "        \"scisbd\": \"1\", # 1 - to include only abstracts\n",
    "        \"start\": start,\n",
    "        #\"end\": end,\n",
    "        #\"num\": page_size\n",
    "    }\n",
    "    \n",
    "\n",
    "    search_object = GoogleSearch(params)\n",
    "    pages = search_object.pagination()\n",
    "    search = search_object.get_json()\n",
    "    \n",
    "    \n",
    "    file_name = search['search_information']['query_displayed']+'_'+ str(search['search_information']['total_results'])\n",
    "    json_name = 1\n",
    "    \n",
    "    create_file(file_name)\n",
    "    \n",
    "    \n",
    "    for page in pages:\n",
    "        \n",
    "        with open(file_name+'_'+str(json_name)+'.json', 'w', encoding='utf-8') as f:\n",
    "            json.dump(page, f, ensure_ascii=False, indent=4)\n",
    "        json_name += 1\n",
    "\n",
    "        for article in page[\"organic_results\"]:\n",
    "            data_to_save = []\n",
    "            data_to_save.append(str(article['title']))\n",
    "            data_to_save.append(str(article['link']))\n",
    "            data_to_save.append(str(article['snippet']))\n",
    "            data_to_save.append(str(article['publication_info']['summary']))\n",
    "            data_to_save.append(str(article['publication_info']))\n",
    "            data_to_save.append(str(search['search_metadata']['processed_at']))\n",
    "            data_to_save.append(str(search['search_information']['query_displayed']))\n",
    "            add_line(file_name, data_to_save)\n",
    "           \n"
   ]
  },
  {
   "cell_type": "code",
   "execution_count": null,
   "metadata": {},
   "outputs": [],
   "source": [
    "scrape('mezcal')"
   ]
  },
  {
   "cell_type": "code",
   "execution_count": null,
   "metadata": {},
   "outputs": [],
   "source": []
  },
  {
   "cell_type": "code",
   "execution_count": null,
   "metadata": {},
   "outputs": [],
   "source": []
  },
  {
   "cell_type": "code",
   "execution_count": null,
   "metadata": {},
   "outputs": [],
   "source": []
  },
  {
   "cell_type": "code",
   "execution_count": null,
   "metadata": {},
   "outputs": [],
   "source": []
  },
  {
   "cell_type": "code",
   "execution_count": null,
   "metadata": {},
   "outputs": [],
   "source": []
  }
 ],
 "metadata": {
  "kernelspec": {
   "display_name": "venv",
   "language": "python",
   "name": "venv"
  },
  "language_info": {
   "codemirror_mode": {
    "name": "ipython",
    "version": 3
   },
   "file_extension": ".py",
   "mimetype": "text/x-python",
   "name": "python",
   "nbconvert_exporter": "python",
   "pygments_lexer": "ipython3",
   "version": "3.8.10"
  }
 },
 "nbformat": 4,
 "nbformat_minor": 4
}
